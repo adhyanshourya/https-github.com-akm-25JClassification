{
 "cells": [
  {
   "cell_type": "markdown",
   "metadata": {},
   "source": [
    "# Support Vector Machines with Scikit-learn\n",
    "### One of the most popular and widely used supervised machine learning algorithms.\n",
    "\n",
    "* SVM offers very high accuracy compared to other classifiers such as logistic regression, and decision trees. \n",
    "\n",
    "\n",
    "* It is known for its kernel trick to handle nonlinear input spaces. \n",
    "\n",
    "\n",
    "* It is used in a variety of applications such as face detection, intrusion detection, classification of emails, news articles and web pages, classification of genes, and handwriting recognition.\n",
    "\n",
    "\n",
    "##### The classifier separates data points using a hyperplane with the largest amount of margin. \n",
    "\n",
    "##### That's why an SVM classifier is also known as a discriminative classifier. \n",
    "\n",
    "##### SVM finds an optimal hyperplane which helps in classifying new data points.\n",
    "\n"
   ]
  },
  {
   "cell_type": "markdown",
   "metadata": {},
   "source": [
    "<img src='img/svm1.JPG'>\n",
    "\n",
    "## Generally, Support Vector Machines is considered to be a classification approach, it but can be employed in both types of classification and regression problems. \n",
    "\n",
    "* It can easily handle multiple continuous and categorical variables. \n",
    "\n",
    "\n",
    "* SVM constructs a hyperplane in multidimensional space to separate different classes. \n",
    "\n",
    "\n",
    "* SVM generates optimal hyperplane in an iterative manner, which is used to minimize an error. \n",
    "\n",
    "\n",
    "* The core idea of SVM is to find a maximum marginal hyperplane(MMH) that best divides the dataset into classes."
   ]
  },
  {
   "cell_type": "markdown",
   "metadata": {},
   "source": [
    "### Support Vectors\n",
    "* Support vectors are the data points, which are closest to the hyperplane. These points will define the separating line better by calculating margins. These points are more relevant to the construction of the classifier.\n",
    "\n",
    "### Hyperplane\n",
    "* A hyperplane is a decision plane which separates between a set of objects having different class memberships.\n",
    "\n",
    "### Margin\n",
    "* A margin is a gap between the two lines on the closest class points. This is calculated as the perpendicular distance from the line to support vectors or closest points. If the margin is larger in between the classes, then it is considered a good margin, a smaller margin is a bad margin.\n",
    "\n",
    "\n"
   ]
  },
  {
   "cell_type": "markdown",
   "metadata": {},
   "source": [
    "## How does SVM work?\n",
    "\n",
    "#### The main objective is to segregate the given dataset in the best possible way. \n",
    "\n",
    "* The distance between the either nearest points is known as the margin. \n",
    "* The objective is to select a hyperplane with the maximum possible margin between support vectors in the given dataset. \n",
    "\n",
    "### SVM searches for the maximum marginal hyperplane in the following steps:\n",
    "\n",
    "1. Generate hyperplanes which segregates the classes in the best way. Left-hand side figure showing three hyperplanes black, blue and orange. Here, the blue and orange have higher classification error, but the black is separating the two classes correctly.\n",
    "\n",
    "\n",
    "\n",
    "2. Select the right hyperplane with the maximum segregation from the either nearest data points as shown in the right-hand side figure.\n",
    "\n",
    "<img src='img/svm2.JPG'>"
   ]
  },
  {
   "cell_type": "markdown",
   "metadata": {},
   "source": [
    "# Dealing with non-linear and inseparable planes\n",
    "\n",
    "\n",
    "Some problems can’t be solved using linear hyperplane, as shown in the figure below (left-hand side).\n",
    "\n",
    "<br><br>\n",
    "<img src='img/svm3.JPG'>\n",
    "* In such situation, SVM uses a **kernel trick** to transform the input space to a higher dimensional space as shown on the right. \n",
    "\n",
    "\n",
    "* The data points are plotted on the x-axis and z-axis (Z is the squared sum of both x and y: z=x^2+y^2). \n",
    "\n",
    "\n",
    "* Now you can easily segregate these points using linear separation."
   ]
  },
  {
   "cell_type": "markdown",
   "metadata": {},
   "source": [
    "# SVM Kernels\n",
    "\n",
    "The SVM algorithm is implemented in practice using a kernel. \n",
    "\n",
    "\n",
    "A kernel transforms an input data space into the required form. \n",
    "\n",
    "### Kernel Trick\n",
    "* SVM uses a technique called the kernel trick. \n",
    "    * Here, the kernel takes a low-dimensional input space and transforms it into a higher dimensional space. \n",
    "\n",
    "* In other words, you can say that it converts nonseparable problem to separable problems by adding more dimension to it. \n",
    "\n",
    "* It is most useful in non-linear separation problem. \n",
    "\n",
    "* Kernel trick helps you to build a more accurate classifier.\n",
    "\n",
    "### Types of Kernels\n",
    "<br>\n",
    "\n",
    "* Linear Kernel \n",
    "    * A linear kernel can be used as normal dot product any two given observations. \n",
    "    * The product between two vectors is the sum of the multiplication of each pair of input values.\n",
    "\n",
    "<br><br>\n",
    "\n",
    "* Polynomial Kernel \n",
    "    * A polynomial kernel is a more generalized form of the linear kernel. \n",
    "    * The polynomial kernel can distinguish curved or nonlinear input space.\n",
    "\n",
    "<br><br>\n",
    "\n",
    "* Radial Basis Function Kernel \n",
    "    * The Radial basis function kernel is a popular kernel function commonly used in support vector machine classification. \n",
    "    * RBF can map an input space in infinite dimensional space.\n",
    "\n",
    "# SVM Classifier Building in Scikit-learn\n",
    "\n",
    "\n",
    "In the model the building part, you can use the cancer dataset, which is a very famous multi-class classification problem. \n",
    "\n",
    "This dataset is computed from a digitized image of a fine needle aspirate (FNA) of a breast mass. They describe characteristics of the cell nuclei present in the image.\n",
    "\n",
    "The dataset comprises 30 features (mean radius, mean texture, mean perimeter, mean area, mean smoothness, mean compactness, mean concavity, mean concave points, mean symmetry, mean fractal dimension, radius error, texture error, perimeter error, area error, smoothness error, compactness error, concavity error, concave points error, symmetry error, fractal dimension error, worst radius, worst texture, worst perimeter, worst area, worst smoothness, worst compactness, worst concavity, worst concave points, worst symmetry, and worst fractal dimension) and a target (type of cancer).\n",
    "\n",
    "This data has two types of cancer classes: malignant (harmful) and benign (not harmful). Here, you can build a model to classify the type of cancer. \n",
    "\n",
    "The dataset is available in the scikit-learn library or you can also download it from the UCI Machine Learning Library.\n",
    "\n",
    "\n"
   ]
  },
  {
   "cell_type": "code",
   "execution_count": 1,
   "metadata": {},
   "outputs": [],
   "source": [
    "import pandas as pd\n",
    "import numpy as np\n",
    "import matplotlib.pyplot as plt\n",
    "%matplotlib inline"
   ]
  },
  {
   "cell_type": "markdown",
   "metadata": {},
   "source": [
    "### Import Dataset"
   ]
  },
  {
   "cell_type": "code",
   "execution_count": null,
   "metadata": {},
   "outputs": [],
   "source": [
    "from sklearn.datasets import load_breast"
   ]
  },
  {
   "cell_type": "code",
   "execution_count": null,
   "metadata": {},
   "outputs": [],
   "source": []
  },
  {
   "cell_type": "code",
   "execution_count": null,
   "metadata": {},
   "outputs": [],
   "source": []
  },
  {
   "cell_type": "code",
   "execution_count": null,
   "metadata": {},
   "outputs": [],
   "source": []
  },
  {
   "cell_type": "code",
   "execution_count": null,
   "metadata": {},
   "outputs": [],
   "source": []
  },
  {
   "cell_type": "code",
   "execution_count": null,
   "metadata": {},
   "outputs": [],
   "source": []
  },
  {
   "cell_type": "code",
   "execution_count": null,
   "metadata": {},
   "outputs": [],
   "source": []
  },
  {
   "cell_type": "code",
   "execution_count": null,
   "metadata": {},
   "outputs": [],
   "source": []
  },
  {
   "cell_type": "code",
   "execution_count": null,
   "metadata": {},
   "outputs": [],
   "source": []
  }
 ],
 "metadata": {
  "kernelspec": {
   "display_name": "Python 3",
   "language": "python",
   "name": "python3"
  },
  "language_info": {
   "codemirror_mode": {
    "name": "ipython",
    "version": 3
   },
   "file_extension": ".py",
   "mimetype": "text/x-python",
   "name": "python",
   "nbconvert_exporter": "python",
   "pygments_lexer": "ipython3",
   "version": "3.7.4"
  }
 },
 "nbformat": 4,
 "nbformat_minor": 2
}
